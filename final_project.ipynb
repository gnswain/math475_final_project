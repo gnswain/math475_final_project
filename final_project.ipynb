{
 "cells": [
  {
   "cell_type": "markdown",
   "metadata": {},
   "source": [
    "# MATH 475 Final Project\n",
    "## Predicting NFL QB All-Pros\n",
    "## Authors: Brayan Mauricio-Gonzalez and Graham Swain"
   ]
  },
  {
   "cell_type": "code",
   "execution_count": null,
   "metadata": {},
   "outputs": [],
   "source": [
    "import pandas as pd\n",
    "import seaborn as sns\n",
    "import matplotlib.pyplot as plt\n",
    "from sklearn.model_selection import train_test_split\n",
    "\n",
    "from sklearn.model_selection import GridSearchCV\n",
    "from sklearn.linear_model import LogisticRegression\n",
    "from sklearn.tree import DecisionTreeClassifier\n",
    "from sklearn.tree import plot_tree\n",
    "from sklearn.metrics import ConfusionMatrixDisplay\n",
    "from sklearn.metrics import recall_score\n",
    "from sklearn.ensemble import RandomForestClassifier\n",
    "from sklearn.ensemble import StackingClassifier"
   ]
  },
  {
   "cell_type": "code",
   "execution_count": null,
   "metadata": {},
   "outputs": [],
   "source": [
    "df = pd.read_csv('nfl_qb.csv')"
   ]
  },
  {
   "attachments": {},
   "cell_type": "markdown",
   "metadata": {},
   "source": [
    "Looking at the first few rows of our data set to ensure there is nothing that immediately seems wrong."
   ]
  },
  {
   "cell_type": "code",
   "execution_count": null,
   "metadata": {},
   "outputs": [],
   "source": [
    "df.head()"
   ]
  },
  {
   "cell_type": "code",
   "execution_count": null,
   "metadata": {},
   "outputs": [],
   "source": [
    "df = df.loc[df['pass_att'] >= 75]"
   ]
  },
  {
   "attachments": {},
   "cell_type": "markdown",
   "metadata": {},
   "source": [
    "Checking if any cells are N/A."
   ]
  },
  {
   "cell_type": "code",
   "execution_count": null,
   "metadata": {},
   "outputs": [],
   "source": [
    "df.isna().sum()"
   ]
  },
  {
   "attachments": {},
   "cell_type": "markdown",
   "metadata": {},
   "source": [
    "Making a new column 'was_ap' that will be one if the player received 1st or 2nd team AP honors that season.\n",
    "We are using a bitwise or operator to accomplish this."
   ]
  },
  {
   "cell_type": "code",
   "execution_count": null,
   "metadata": {},
   "outputs": [],
   "source": [
    "df['was_ap'] = (df['ap_1st'] | df['ap_2nd'])"
   ]
  },
  {
   "attachments": {},
   "cell_type": "markdown",
   "metadata": {},
   "source": [
    "This formats all of the Seaborn plots in the manner that we want."
   ]
  },
  {
   "cell_type": "code",
   "execution_count": null,
   "metadata": {},
   "outputs": [],
   "source": [
    "sns.set(rc={'figure.figsize':(20,7.55)})\n",
    "sns.set_style('ticks')"
   ]
  },
  {
   "attachments": {},
   "cell_type": "markdown",
   "metadata": {},
   "source": [
    "This sorts the players who achieved AP honors to the top of the dataframe so they will be displayed on\n",
    "the top layer of graphs."
   ]
  },
  {
   "cell_type": "code",
   "execution_count": null,
   "metadata": {},
   "outputs": [],
   "source": [
    "graph_df = df.sort_values(by = 'was_ap')"
   ]
  },
  {
   "cell_type": "code",
   "execution_count": null,
   "metadata": {},
   "outputs": [],
   "source": [
    "fig, axs = plt.subplots(nrows = 5)\n",
    "fig.set_size_inches(15, 15)\n",
    "fig.tight_layout(pad = -1.5)\n",
    "axs[0].set_xticks([])\n",
    "axs[1].set_xticks([])\n",
    "sns.scatterplot(data = graph_df, x = 'year', y = 'g', hue = 'was_ap', size = 'was_ap', size_order = [1, 0], style = 'was_ap', style_order = [1, 0], legend = False, ax = axs[0])\n",
    "sns.scatterplot(data = graph_df, x = 'year', y = 'gs', hue = 'was_ap', size = 'was_ap', size_order = [1, 0], style = 'was_ap', style_order = [1, 0], legend = False, ax = axs[1])\n",
    "sns.scatterplot(data = graph_df, x = 'year', y = 'wins', hue = 'was_ap', size = 'was_ap', size_order = [1, 0], style = 'was_ap', style_order = [1, 0], legend = False, ax = axs[2])\n",
    "sns.scatterplot(data = graph_df, x = 'year', y = 'loses', hue = 'was_ap', size = 'was_ap', size_order = [1, 0], style = 'was_ap', style_order = [1, 0], legend = False, ax = axs[3])\n",
    "sns.scatterplot(data = graph_df, x = 'year', y = 'ties', hue = 'was_ap', size = 'was_ap', size_order = [1, 0], style = 'was_ap', style_order = [1, 0], legend = False, ax = axs[4])"
   ]
  },
  {
   "cell_type": "code",
   "execution_count": null,
   "metadata": {},
   "outputs": [],
   "source": [
    "fig, axs = plt.subplots(nrows = 6)\n",
    "fig.set_size_inches(15, 18)\n",
    "fig.tight_layout(pad = -1.5)\n",
    "axs[0].set_xticks([])\n",
    "axs[1].set_xticks([])\n",
    "sns.scatterplot(data = graph_df, x = 'year', y = 'pass_rk', hue = 'was_ap', size = 'was_ap', size_order = [1, 0], style = 'was_ap', style_order = [1, 0], legend = False, ax = axs[0])\n",
    "sns.scatterplot(data = graph_df, x = 'year', y = 'pass_att', hue = 'was_ap', size = 'was_ap', size_order = [1, 0], style = 'was_ap', style_order = [1, 0], legend = False, ax = axs[1])\n",
    "sns.scatterplot(data = graph_df, x = 'year', y = 'cmp', hue = 'was_ap', size = 'was_ap', size_order = [1, 0], style = 'was_ap', style_order = [1, 0], legend = False, ax = axs[2])\n",
    "sns.scatterplot(data = graph_df, x = 'year', y = 'pass_yds', hue = 'was_ap', size = 'was_ap', size_order = [1, 0], style = 'was_ap', style_order = [1, 0], legend = False, ax = axs[3])\n",
    "sns.scatterplot(data = graph_df, x = 'year', y = 'pass_td', hue = 'was_ap', size = 'was_ap', size_order = [1, 0], style = 'was_ap', style_order = [1, 0], legend = False, ax = axs[4])\n",
    "sns.scatterplot(data = graph_df, x = 'year', y = 'int', hue = 'was_ap', size = 'was_ap', size_order = [1, 0], style = 'was_ap', style_order = [1, 0], legend = False, ax = axs[5])"
   ]
  },
  {
   "cell_type": "code",
   "execution_count": null,
   "metadata": {},
   "outputs": [],
   "source": [
    "fig, axs = plt.subplots(nrows = 3)\n",
    "fig.set_size_inches(15, 9)\n",
    "fig.tight_layout(pad = -1.5)\n",
    "axs[0].set_xticks([])\n",
    "axs[1].set_xticks([])\n",
    "sns.scatterplot(data = graph_df, x = 'year', y = 'cmp%', hue = 'was_ap', size = 'was_ap', size_order = [1, 0], style = 'was_ap', style_order = [1, 0], legend = False, ax = axs[0])\n",
    "sns.scatterplot(data = graph_df, x = 'year', y = 'td%', hue = 'was_ap', size = 'was_ap', size_order = [1, 0], style = 'was_ap', style_order = [1, 0], legend = False, ax = axs[1])\n",
    "sns.scatterplot(data = graph_df, x = 'year', y = 'int%', hue = 'was_ap', size = 'was_ap', size_order = [1, 0], style = 'was_ap', style_order = [1, 0], legend = False, ax = axs[2])"
   ]
  },
  {
   "cell_type": "code",
   "execution_count": null,
   "metadata": {},
   "outputs": [],
   "source": [
    "fig, axs = plt.subplots(nrows = 4)\n",
    "fig.set_size_inches(15, 12)\n",
    "fig.tight_layout(pad = -1.5)\n",
    "axs[0].set_xticks([])\n",
    "axs[1].set_xticks([])\n",
    "sns.scatterplot(data = graph_df, x = 'year', y = 'pass_lng', hue = 'was_ap', size = 'was_ap', size_order = [1, 0], style = 'was_ap', style_order = [1, 0], legend = False, ax = axs[0])\n",
    "sns.scatterplot(data = graph_df, x = 'year', y = 'pass_y/a', hue = 'was_ap', size = 'was_ap', size_order = [1, 0], style = 'was_ap', style_order = [1, 0], legend = False, ax = axs[1])\n",
    "sns.scatterplot(data = graph_df, x = 'year', y = 'ay/a', hue = 'was_ap', size = 'was_ap', size_order = [1, 0], style = 'was_ap', style_order = [1, 0], legend = False, ax = axs[2])\n",
    "sns.scatterplot(data = graph_df, x = 'year', y = 'rate', hue = 'was_ap', size = 'was_ap', size_order = [1, 0], style = 'was_ap', style_order = [1, 0], legend = False, ax = axs[3])"
   ]
  },
  {
   "cell_type": "code",
   "execution_count": null,
   "metadata": {},
   "outputs": [],
   "source": [
    "fig, axs = plt.subplots(nrows = 3)\n",
    "fig.set_size_inches(15, 9)\n",
    "fig.tight_layout(pad = -1.5)\n",
    "axs[0].set_xticks([])\n",
    "axs[1].set_xticks([])\n",
    "sns.scatterplot(data = graph_df, x = 'year', y = 'y/c', hue = 'was_ap', size = 'was_ap', size_order = [1, 0], style = 'was_ap', style_order = [1, 0], legend = False, ax = axs[0])\n",
    "sns.scatterplot(data = graph_df, x = 'year', y = 'ny/a', hue = 'was_ap', size = 'was_ap', size_order = [1, 0], style = 'was_ap', style_order = [1, 0], legend = False, ax = axs[1])\n",
    "sns.scatterplot(data = graph_df, x = 'year', y = 'any/a', hue = 'was_ap', size = 'was_ap', size_order = [1, 0], style = 'was_ap', style_order = [1, 0], legend = False, ax = axs[2])"
   ]
  },
  {
   "cell_type": "code",
   "execution_count": null,
   "metadata": {},
   "outputs": [],
   "source": [
    "fig, axs = plt.subplots(nrows = 3)\n",
    "fig.set_size_inches(15, 9)\n",
    "fig.tight_layout(pad = -1.5)\n",
    "axs[0].set_xticks([])\n",
    "axs[1].set_xticks([])\n",
    "sns.scatterplot(data = graph_df, x = 'year', y = 'sk', hue = 'was_ap', size = 'was_ap', size_order = [1, 0], style = 'was_ap', style_order = [1, 0], legend = False, ax = axs[0])\n",
    "sns.scatterplot(data = graph_df, x = 'year', y = 'sk%', hue = 'was_ap', size = 'was_ap', size_order = [1, 0], style = 'was_ap', style_order = [1, 0], legend = False, ax = axs[1])\n",
    "sns.scatterplot(data = graph_df, x = 'year', y = 'yards_lost_sack', hue = 'was_ap', size = 'was_ap', size_order = [1, 0], style = 'was_ap', style_order = [1, 0], legend = False, ax = axs[2])"
   ]
  },
  {
   "cell_type": "code",
   "execution_count": null,
   "metadata": {},
   "outputs": [],
   "source": [
    "fig, axs = plt.subplots(nrows = 2)\n",
    "fig.set_size_inches(15, 6)\n",
    "fig.tight_layout(pad = -1.5)\n",
    "axs[0].set_xticks([])\n",
    "axs[1].set_xticks([])\n",
    "sns.scatterplot(data = graph_df, x = 'year', y = '4qc', hue = 'was_ap', size = 'was_ap', size_order = [1, 0], style = 'was_ap', style_order = [1, 0], legend = False, ax = axs[0])\n",
    "sns.scatterplot(data = graph_df, x = 'year', y = 'gwd', hue = 'was_ap', size = 'was_ap', size_order = [1, 0], style = 'was_ap', style_order = [1, 0], legend = False, ax = axs[1])"
   ]
  },
  {
   "cell_type": "code",
   "execution_count": null,
   "metadata": {},
   "outputs": [],
   "source": [
    "fig, axs = plt.subplots(nrows = 4)\n",
    "fig.set_size_inches(15, 12)\n",
    "fig.tight_layout(pad = -1.5)\n",
    "axs[0].set_xticks([])\n",
    "axs[1].set_xticks([])\n",
    "sns.scatterplot(data = graph_df, x = 'year', y = 'rush_rk', hue = 'was_ap', size = 'was_ap', size_order = [1, 0], style = 'was_ap', style_order = [1, 0], legend = False, ax = axs[0])\n",
    "sns.scatterplot(data = graph_df, x = 'year', y = 'rush_att', hue = 'was_ap', size = 'was_ap', size_order = [1, 0], style = 'was_ap', style_order = [1, 0], legend = False, ax = axs[1])\n",
    "sns.scatterplot(data = graph_df, x = 'year', y = 'rush_yds', hue = 'was_ap', size = 'was_ap', size_order = [1, 0], style = 'was_ap', style_order = [1, 0], legend = False, ax = axs[2])\n",
    "sns.scatterplot(data = graph_df, x = 'year', y = 'rush_td', hue = 'was_ap', size = 'was_ap', size_order = [1, 0], style = 'was_ap', style_order = [1, 0], legend = False, ax = axs[3])"
   ]
  },
  {
   "cell_type": "code",
   "execution_count": null,
   "metadata": {},
   "outputs": [],
   "source": [
    "df.drop(columns = {'pos', 'pass_rk', 'rush_rk', 'rush_att', 'rush_yds', 'rush_td', 'rush_lng', 'rush_y/a',  'rush_y/g', 'fmb'}, inplace = True)"
   ]
  },
  {
   "cell_type": "code",
   "execution_count": null,
   "metadata": {},
   "outputs": [],
   "source": [
    "def normalize_by_year(df):\n",
    "    def normalize(group):\n",
    "        for column in group.columns:\n",
    "            if ((str(group[column].values[0]).isnumeric() or isinstance(group[column].values[0], float))\n",
    "                and column not in ['year', 'age', 'ap_1st', 'ap_2nd', 'was_ap']):\n",
    "                group[column] = (group[column] - min(group[column])) / (max(group[column]) - min(group[column]))\n",
    "\n",
    "        return group\n",
    "\n",
    "    groups = df.copy().groupby(\"year\")\n",
    "    return groups.apply(normalize)\n",
    "\n",
    "df_normalized = normalize_by_year(df)"
   ]
  },
  {
   "cell_type": "code",
   "execution_count": null,
   "metadata": {},
   "outputs": [],
   "source": [
    "graph_df_n = df_normalized.sort_values(by = 'was_ap')"
   ]
  },
  {
   "cell_type": "code",
   "execution_count": null,
   "metadata": {},
   "outputs": [],
   "source": [
    "fig, axs = plt.subplots(nrows = 5)\n",
    "fig.set_size_inches(15, 15)\n",
    "fig.tight_layout(pad = -1.5)\n",
    "axs[0].set_xticks([])\n",
    "axs[1].set_xticks([])\n",
    "sns.scatterplot(data = graph_df_n, x = 'year', y = 'g', hue = 'was_ap', size = 'was_ap', size_order = [1, 0], style = 'was_ap', style_order = [1, 0], legend = False, ax = axs[0])\n",
    "sns.scatterplot(data = graph_df_n, x = 'year', y = 'gs', hue = 'was_ap', size = 'was_ap', size_order = [1, 0], style = 'was_ap', style_order = [1, 0], legend = False, ax = axs[1])\n",
    "sns.scatterplot(data = graph_df_n, x = 'year', y = 'wins', hue = 'was_ap', size = 'was_ap', size_order = [1, 0], style = 'was_ap', style_order = [1, 0], legend = False, ax = axs[2])\n",
    "sns.scatterplot(data = graph_df_n, x = 'year', y = 'loses', hue = 'was_ap', size = 'was_ap', size_order = [1, 0], style = 'was_ap', style_order = [1, 0], legend = False, ax = axs[3])\n",
    "sns.scatterplot(data = graph_df_n, x = 'year', y = 'ties', hue = 'was_ap', size = 'was_ap', size_order = [1, 0], style = 'was_ap', style_order = [1, 0], legend = False, ax = axs[4])"
   ]
  },
  {
   "cell_type": "code",
   "execution_count": null,
   "metadata": {},
   "outputs": [],
   "source": [
    "fig, axs = plt.subplots(nrows = 5)\n",
    "fig.set_size_inches(15, 15)\n",
    "fig.tight_layout(pad = -1.5)\n",
    "axs[0].set_xticks([])\n",
    "axs[1].set_xticks([])\n",
    "\n",
    "sns.scatterplot(data = graph_df_n, x = 'year', y = 'pass_att', hue = 'was_ap', size = 'was_ap', size_order = [1, 0], style = 'was_ap', style_order = [1, 0], legend = False, ax = axs[0])\n",
    "sns.scatterplot(data = graph_df_n, x = 'year', y = 'cmp', hue = 'was_ap', size = 'was_ap', size_order = [1, 0], style = 'was_ap', style_order = [1, 0], legend = False, ax = axs[1])\n",
    "sns.scatterplot(data = graph_df_n, x = 'year', y = 'pass_yds', hue = 'was_ap', size = 'was_ap', size_order = [1, 0], style = 'was_ap', style_order = [1, 0], legend = False, ax = axs[2])\n",
    "sns.scatterplot(data = graph_df_n, x = 'year', y = 'pass_td', hue = 'was_ap', size = 'was_ap', size_order = [1, 0], style = 'was_ap', style_order = [1, 0], legend = False, ax = axs[3])\n",
    "sns.scatterplot(data = graph_df_n, x = 'year', y = 'int', hue = 'was_ap', size = 'was_ap', size_order = [1, 0], style = 'was_ap', style_order = [1, 0], legend = False, ax = axs[4])"
   ]
  },
  {
   "cell_type": "code",
   "execution_count": null,
   "metadata": {},
   "outputs": [],
   "source": [
    "fig, axs = plt.subplots(nrows = 3)\n",
    "fig.set_size_inches(15, 9)\n",
    "fig.tight_layout(pad = -1.5)\n",
    "axs[0].set_xticks([])\n",
    "axs[1].set_xticks([])\n",
    "sns.scatterplot(data = graph_df_n, x = 'year', y = 'cmp%', hue = 'was_ap', size = 'was_ap', size_order = [1, 0], style = 'was_ap', style_order = [1, 0], legend = False, ax = axs[0])\n",
    "sns.scatterplot(data = graph_df_n, x = 'year', y = 'td%', hue = 'was_ap', size = 'was_ap', size_order = [1, 0], style = 'was_ap', style_order = [1, 0], legend = False, ax = axs[1])\n",
    "sns.scatterplot(data = graph_df_n, x = 'year', y = 'int%', hue = 'was_ap', size = 'was_ap', size_order = [1, 0], style = 'was_ap', style_order = [1, 0], legend = False, ax = axs[2])"
   ]
  },
  {
   "cell_type": "code",
   "execution_count": null,
   "metadata": {},
   "outputs": [],
   "source": [
    "fig, axs = plt.subplots(nrows = 4)\n",
    "fig.set_size_inches(15, 12)\n",
    "fig.tight_layout(pad = -1.5)\n",
    "axs[0].set_xticks([])\n",
    "axs[1].set_xticks([])\n",
    "sns.scatterplot(data = graph_df_n, x = 'year', y = 'pass_lng', hue = 'was_ap', size = 'was_ap', size_order = [1, 0], style = 'was_ap', style_order = [1, 0], legend = False, ax = axs[0])\n",
    "sns.scatterplot(data = graph_df_n, x = 'year', y = 'pass_y/a', hue = 'was_ap', size = 'was_ap', size_order = [1, 0], style = 'was_ap', style_order = [1, 0], legend = False, ax = axs[1])\n",
    "sns.scatterplot(data = graph_df_n, x = 'year', y = 'ay/a', hue = 'was_ap', size = 'was_ap', size_order = [1, 0], style = 'was_ap', style_order = [1, 0], legend = False, ax = axs[2])\n",
    "sns.scatterplot(data = graph_df_n, x = 'year', y = 'rate', hue = 'was_ap', size = 'was_ap', size_order = [1, 0], style = 'was_ap', style_order = [1, 0], legend = False, ax = axs[3])"
   ]
  },
  {
   "cell_type": "code",
   "execution_count": null,
   "metadata": {},
   "outputs": [],
   "source": [
    "fig, axs = plt.subplots(nrows = 3)\n",
    "fig.set_size_inches(15, 9)\n",
    "fig.tight_layout(pad = -1.5)\n",
    "axs[0].set_xticks([])\n",
    "axs[1].set_xticks([])\n",
    "sns.scatterplot(data = graph_df_n, x = 'year', y = 'sk', hue = 'was_ap', size = 'was_ap', size_order = [1, 0], style = 'was_ap', style_order = [1, 0], legend = False, ax = axs[0])\n",
    "sns.scatterplot(data = graph_df_n, x = 'year', y = 'sk%', hue = 'was_ap', size = 'was_ap', size_order = [1, 0], style = 'was_ap', style_order = [1, 0], legend = False, ax = axs[1])\n",
    "sns.scatterplot(data = graph_df_n, x = 'year', y = 'yards_lost_sack', hue = 'was_ap', size = 'was_ap', size_order = [1, 0], style = 'was_ap', style_order = [1, 0], legend = False, ax = axs[2])"
   ]
  },
  {
   "cell_type": "code",
   "execution_count": null,
   "metadata": {},
   "outputs": [],
   "source": [
    "fig, axs = plt.subplots(nrows = 2)\n",
    "fig.set_size_inches(15, 6)\n",
    "fig.tight_layout(pad = -1.5)\n",
    "axs[0].set_xticks([])\n",
    "axs[1].set_xticks([])\n",
    "sns.scatterplot(data = graph_df_n, x = 'year', y = '4qc', hue = 'was_ap', size = 'was_ap', size_order = [1, 0], style = 'was_ap', style_order = [1, 0], legend = False, ax = axs[0])\n",
    "sns.scatterplot(data = graph_df_n, x = 'year', y = 'gwd', hue = 'was_ap', size = 'was_ap', size_order = [1, 0], style = 'was_ap', style_order = [1, 0], legend = False, ax = axs[1])"
   ]
  },
  {
   "cell_type": "code",
   "execution_count": null,
   "metadata": {},
   "outputs": [],
   "source": [
    "# df.drop(columns = {'pos', 'pass_rk', 'rush_rk', 'rush_att', 'rush_yds', 'rush_td', 'rush_lng', 'rush_y/a',  'rush_y/g', 'fmb'}, inplace = True)\n",
    "df_normalized.drop(columns = {'year', 'tm', 'age', 'gs', 'wins', 'loses', 'ties', 'pass_lng', 'pass_att',\n",
    "                              'int', 'sk', 'sk%', 'yards_lost_sack', '4qc', 'gwd', 'ap_1st', 'ap_2nd',\n",
    "                              'player'}, \n",
    "                   inplace = True)"
   ]
  },
  {
   "attachments": {},
   "cell_type": "markdown",
   "metadata": {},
   "source": [
    "# Decision Tree"
   ]
  },
  {
   "cell_type": "code",
   "execution_count": null,
   "metadata": {},
   "outputs": [],
   "source": [
    "y = df_normalized['was_ap']\n",
    "X = df_normalized.drop(columns = {'was_ap'})\n",
    "\n",
    "X_train, X_test, y_train, y_test = train_test_split(X, y, test_size = 0.3, random_state = 12)"
   ]
  },
  {
   "cell_type": "code",
   "execution_count": null,
   "metadata": {},
   "outputs": [],
   "source": [
    "DTC = DecisionTreeClassifier(max_depth = 4)\n",
    "DTC.fit(X_train, y_train)"
   ]
  },
  {
   "cell_type": "code",
   "execution_count": null,
   "metadata": {},
   "outputs": [],
   "source": [
    "print(f\"Our model's score against the testing data: {DTC.score(X_test, y_test)*100:4.2f}%\")"
   ]
  },
  {
   "cell_type": "code",
   "execution_count": null,
   "metadata": {},
   "outputs": [],
   "source": [
    "ConfusionMatrixDisplay.from_estimator(DTC, X_test, y_test)"
   ]
  },
  {
   "cell_type": "code",
   "execution_count": null,
   "metadata": {},
   "outputs": [],
   "source": [
    "y_pred = DTC.predict(X_test)\n",
    "print(f\"Our model's accuracy for predicting All-Pro's: {recall_score(y_test, y_pred)*100:4.2f}%\")"
   ]
  },
  {
   "cell_type": "code",
   "execution_count": null,
   "metadata": {},
   "outputs": [],
   "source": [
    "plot_tree(DTC, feature_names = X.columns, class_names = ['Was NOT AP', 'Was AP'])"
   ]
  },
  {
   "cell_type": "code",
   "execution_count": null,
   "metadata": {},
   "outputs": [],
   "source": [
    "plot_data = X_test.copy()\n",
    "plot_data['was_ap'] = y_pred\n",
    "sns.scatterplot(data = plot_data, x = \"pass_td\", y = \"any/a\", hue = \"was_ap\")"
   ]
  },
  {
   "attachments": {},
   "cell_type": "markdown",
   "metadata": {},
   "source": [
    "# Random Forest Classifier (Grid Search)"
   ]
  },
  {
   "cell_type": "code",
   "execution_count": null,
   "metadata": {},
   "outputs": [],
   "source": [
    "RFC = RandomForestClassifier()\n",
    "grid_params = {\n",
    "    \"n_estimators\": range(1, 15, 3),\n",
    "    \"max_depth\": range(1, 6)\n",
    "}\n",
    "\n",
    "RFC_GSCV = GridSearchCV(RFC, grid_params)\n",
    "\n",
    "RFC_GSCV.fit(X_train, y_train)\n",
    "\n",
    "RFC_GSCV.best_params_"
   ]
  },
  {
   "cell_type": "code",
   "execution_count": null,
   "metadata": {},
   "outputs": [],
   "source": [
    "best_RFC = RFC_GSCV.best_estimator_\n",
    "print(f\"Our model's score against the training data: {best_RFC.score(X_train, y_train)*100:4.2f}%\")"
   ]
  },
  {
   "cell_type": "code",
   "execution_count": null,
   "metadata": {},
   "outputs": [],
   "source": [
    "print(f\"Our model's score against the testing data: {best_RFC.score(X_test, y_test)*100:4.2f}%\")"
   ]
  },
  {
   "cell_type": "code",
   "execution_count": null,
   "metadata": {},
   "outputs": [],
   "source": [
    "ConfusionMatrixDisplay.from_estimator(best_RFC, X_test, y_test)"
   ]
  },
  {
   "cell_type": "code",
   "execution_count": null,
   "metadata": {},
   "outputs": [],
   "source": [
    "y_pred = best_RFC.predict(X_test)\n",
    "print(f\"Our model's accuracy for predicting All-Pro's: {recall_score(y_test, y_pred)*100:4.2f}%\")"
   ]
  },
  {
   "attachments": {},
   "cell_type": "markdown",
   "metadata": {},
   "source": [
    "# Decision Tree (Grid Search)"
   ]
  },
  {
   "cell_type": "code",
   "execution_count": null,
   "metadata": {},
   "outputs": [],
   "source": [
    "DTC = DecisionTreeClassifier()\n",
    "grid_params = {\n",
    "    \"max_depth\": range(1, 6)\n",
    "}\n",
    "\n",
    "DTC_GSCV = GridSearchCV(DTC, grid_params)\n",
    "\n",
    "DTC_GSCV.fit(X_train, y_train)\n",
    "\n",
    "DTC_GSCV.best_params_"
   ]
  },
  {
   "cell_type": "code",
   "execution_count": null,
   "metadata": {},
   "outputs": [],
   "source": [
    "best_DTC = DTC_GSCV.best_estimator_\n",
    "print(f\"Our model's score against the training data: {best_DTC.score(X_train, y_train)*100:4.2f}%\")"
   ]
  },
  {
   "cell_type": "code",
   "execution_count": null,
   "metadata": {},
   "outputs": [],
   "source": [
    "print(f\"Our model's score against the testing data: {best_DTC.score(X_test, y_test)*100:4.2f}%\")"
   ]
  },
  {
   "cell_type": "code",
   "execution_count": null,
   "metadata": {},
   "outputs": [],
   "source": [
    "ConfusionMatrixDisplay.from_estimator(best_DTC, X_test, y_test)"
   ]
  },
  {
   "cell_type": "code",
   "execution_count": null,
   "metadata": {},
   "outputs": [],
   "source": [
    "y_pred = best_DTC.predict(X_test)\n",
    "print(f\"Our model's accuracy for predicting All-Pro's: {recall_score(y_test, y_pred)*100:4.2f}%\")"
   ]
  },
  {
   "attachments": {},
   "cell_type": "markdown",
   "metadata": {},
   "source": [
    "# Stacking Classifier"
   ]
  },
  {
   "cell_type": "code",
   "execution_count": null,
   "metadata": {},
   "outputs": [],
   "source": [
    "my_estimators = [\n",
    "    ('DTC', DecisionTreeClassifier(max_depth = 2, random_state = 12)),\n",
    "    ('RFC', best_RFC),\n",
    "    ('LR', LogisticRegression(max_iter = 1000))\n",
    "]\n",
    "\n",
    "SC = StackingClassifier(estimators = my_estimators, final_estimator = best_DTC)\n",
    "\n",
    "SC.fit(X_train, y_train)"
   ]
  },
  {
   "cell_type": "code",
   "execution_count": null,
   "metadata": {},
   "outputs": [],
   "source": [
    "print(f\"Our model's score against the testing data: {SC.score(X_test, y_test)*100:4.2f}%\")"
   ]
  },
  {
   "cell_type": "code",
   "execution_count": null,
   "metadata": {},
   "outputs": [],
   "source": [
    "ConfusionMatrixDisplay.from_estimator(SC, X_test, y_test)"
   ]
  },
  {
   "cell_type": "code",
   "execution_count": null,
   "metadata": {},
   "outputs": [],
   "source": [
    "y_pred = SC.predict(X_test)\n",
    "print(f\"Our model's accuracy for predicting All-Pro's: {recall_score(y_test, y_pred)*100:4.2f}%\")"
   ]
  },
  {
   "cell_type": "code",
   "execution_count": null,
   "metadata": {},
   "outputs": [],
   "source": [
    "df2022 = pd.read_csv('2022_nfl_qb.csv')\n",
    "df2022 = df2022.loc[df2022['Pos'] == 'QB']"
   ]
  },
  {
   "cell_type": "code",
   "execution_count": null,
   "metadata": {},
   "outputs": [],
   "source": [
    "df2022.isna().sum()\n",
    "df2022.loc[df2022['Y/C'].isna()]"
   ]
  },
  {
   "cell_type": "code",
   "execution_count": null,
   "metadata": {},
   "outputs": [],
   "source": [
    "df2022.dropna(inplace = True)"
   ]
  },
  {
   "cell_type": "code",
   "execution_count": null,
   "metadata": {},
   "outputs": [],
   "source": [
    "df_normalized.columns"
   ]
  },
  {
   "cell_type": "code",
   "execution_count": null,
   "metadata": {},
   "outputs": [],
   "source": [
    "df2022.drop(columns = {'Rk', 'Player', 'Tm', 'Age', 'Pos', 'GS', 'QBrec', 'Att', 'Int', '1D', 'Lng',\n",
    "                       'QBR', 'Sk', 'Yds.1', 'Sk%', '4QC', 'GWD', 'Player-additional'}, inplace = True)"
   ]
  },
  {
   "cell_type": "code",
   "execution_count": null,
   "metadata": {},
   "outputs": [],
   "source": [
    "df2022.columns"
   ]
  },
  {
   "cell_type": "code",
   "execution_count": null,
   "metadata": {},
   "outputs": [],
   "source": [
    "df2022.columns = ['g', 'cmp', 'cmp%', 'pass_yds', 'pass_td', 'td%', 'int%', 'pass_y/a', 'ay/a', 'y/c', \n",
    "                  'pass_y/g', 'rate', 'ny/a', 'any/a']"
   ]
  },
  {
   "cell_type": "code",
   "execution_count": null,
   "metadata": {},
   "outputs": [],
   "source": [
    "df2022['year'] = 2022\n",
    "df2022_normalized = normalize_by_year(df2022)\n",
    "df2022_normalized.drop(columns = {'year'}, inplace = True)"
   ]
  },
  {
   "cell_type": "code",
   "execution_count": null,
   "metadata": {},
   "outputs": [],
   "source": [
    "SC.predict(df2022_normalized)"
   ]
  },
  {
   "cell_type": "code",
   "execution_count": null,
   "metadata": {},
   "outputs": [],
   "source": [
    "best_DTC.predict(df2022_normalized)"
   ]
  },
  {
   "cell_type": "code",
   "execution_count": null,
   "metadata": {},
   "outputs": [],
   "source": [
    "best_RFC.predict(df2022_normalized)"
   ]
  },
  {
   "cell_type": "code",
   "execution_count": null,
   "metadata": {},
   "outputs": [],
   "source": [
    "df2022_normalized"
   ]
  },
  {
   "cell_type": "code",
   "execution_count": null,
   "metadata": {},
   "outputs": [],
   "source": [
    "best_DTC.predict(df2022_normalized[0:1])"
   ]
  },
  {
   "cell_type": "code",
   "execution_count": null,
   "metadata": {},
   "outputs": [],
   "source": []
  }
 ],
 "metadata": {
  "kernelspec": {
   "display_name": "Python 3",
   "language": "python",
   "name": "python3"
  },
  "language_info": {
   "codemirror_mode": {
    "name": "ipython",
    "version": 3
   },
   "file_extension": ".py",
   "mimetype": "text/x-python",
   "name": "python",
   "nbconvert_exporter": "python",
   "pygments_lexer": "ipython3",
   "version": "3.8.10"
  },
  "orig_nbformat": 4,
  "vscode": {
   "interpreter": {
    "hash": "31f2aee4e71d21fbe5cf8b01ff0e069b9275f58929596ceb00d14d90e3e16cd6"
   }
  }
 },
 "nbformat": 4,
 "nbformat_minor": 2
}
