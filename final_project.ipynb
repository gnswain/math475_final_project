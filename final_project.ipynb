{
 "cells": [
  {
   "cell_type": "markdown",
   "metadata": {},
   "source": [
    "# MATH 475 Final Project\n",
    "## Predicting NFL QB All-Pros\n",
    "## Authors: Brayan Mauricio-Gonzalez and Graham Swain"
   ]
  },
  {
   "cell_type": "code",
   "execution_count": null,
   "metadata": {},
   "outputs": [],
   "source": [
    "import pandas as pd\n",
    "import seaborn as sns\n",
    "import matplotlib.pyplot as plt"
   ]
  },
  {
   "cell_type": "code",
   "execution_count": null,
   "metadata": {},
   "outputs": [],
   "source": [
    "df = pd.read_csv('nfl_qb.csv')"
   ]
  },
  {
   "attachments": {},
   "cell_type": "markdown",
   "metadata": {},
   "source": [
    "Looking at the first few rows of our data set to ensure there is nothing that immediately seems wrong."
   ]
  },
  {
   "cell_type": "code",
   "execution_count": null,
   "metadata": {},
   "outputs": [],
   "source": [
    "df.head()"
   ]
  },
  {
   "attachments": {},
   "cell_type": "markdown",
   "metadata": {},
   "source": [
    "Checking if any cells are N/A."
   ]
  },
  {
   "cell_type": "code",
   "execution_count": null,
   "metadata": {},
   "outputs": [],
   "source": [
    "df.isna().sum()"
   ]
  },
  {
   "cell_type": "code",
   "execution_count": null,
   "metadata": {},
   "outputs": [],
   "source": [
    "df.info()"
   ]
  },
  {
   "attachments": {},
   "cell_type": "markdown",
   "metadata": {},
   "source": [
    "Making a new column 'was_ap' that will be one if the player received 1st or 2nd team AP honors that season.\n",
    "We are using a bitwise or operator to accomplish this."
   ]
  },
  {
   "cell_type": "code",
   "execution_count": null,
   "metadata": {},
   "outputs": [],
   "source": [
    "df['was_ap'] = (df['ap_1st'] | df['ap_2nd'])"
   ]
  },
  {
   "attachments": {},
   "cell_type": "markdown",
   "metadata": {},
   "source": [
    "This formats all of the Seaborn plots in the manner that we want."
   ]
  },
  {
   "cell_type": "code",
   "execution_count": null,
   "metadata": {},
   "outputs": [],
   "source": [
    "sns.set(rc={'figure.figsize':(20,7.55)})\n",
    "sns.set_style('ticks')"
   ]
  },
  {
   "attachments": {},
   "cell_type": "markdown",
   "metadata": {},
   "source": [
    "This sorts the players who achieved AP honors to the top of the dataframe so they will be displayed on\n",
    "the top layer of graphs."
   ]
  },
  {
   "cell_type": "code",
   "execution_count": null,
   "metadata": {},
   "outputs": [],
   "source": [
    "graph_df = df.sort_values(by = 'was_ap')"
   ]
  },
  {
   "cell_type": "code",
   "execution_count": null,
   "metadata": {},
   "outputs": [],
   "source": [
    "fig, axs = plt.subplots(nrows = 5)\n",
    "fig.set_size_inches(15, 10)\n",
    "fig.tight_layout(pad = -1.5)\n",
    "axs[0].set_xticks([])\n",
    "axs[1].set_xticks([])\n",
    "sns.scatterplot(data = graph_df, x = 'year', y = 'g', hue = 'was_ap', size = 'was_ap', size_order = [1, 0], style = 'was_ap', style_order = [1, 0], legend = False, ax = axs[0])\n",
    "sns.scatterplot(data = graph_df, x = 'year', y = 'gs', hue = 'was_ap', size = 'was_ap', size_order = [1, 0], style = 'was_ap', style_order = [1, 0], legend = False, ax = axs[1])\n",
    "sns.scatterplot(data = graph_df, x = 'year', y = 'wins', hue = 'was_ap', size = 'was_ap', size_order = [1, 0], style = 'was_ap', style_order = [1, 0], legend = False, ax = axs[2])\n",
    "sns.scatterplot(data = graph_df, x = 'year', y = 'loses', hue = 'was_ap', size = 'was_ap', size_order = [1, 0], style = 'was_ap', style_order = [1, 0], legend = False, ax = axs[3])\n",
    "sns.scatterplot(data = graph_df, x = 'year', y = 'ties', hue = 'was_ap', size = 'was_ap', size_order = [1, 0], style = 'was_ap', style_order = [1, 0], legend = False, ax = axs[4])"
   ]
  },
  {
   "cell_type": "code",
   "execution_count": null,
   "metadata": {},
   "outputs": [],
   "source": [
    "fig, axs = plt.subplots(nrows = 5)\n",
    "fig.set_size_inches(15, 10)\n",
    "fig.tight_layout(pad = -1.5)\n",
    "axs[0].set_xticks([])\n",
    "axs[1].set_xticks([])\n",
    "sns.scatterplot(data = graph_df, x = 'year', y = 'pass_rk', hue = 'was_ap', size = 'was_ap', size_order = [1, 0], style = 'was_ap', style_order = [1, 0], legend = False, ax = axs[0])\n",
    "sns.scatterplot(data = graph_df, x = 'year', y = 'pass_att', hue = 'was_ap', size = 'was_ap', size_order = [1, 0], style = 'was_ap', style_order = [1, 0], legend = False, ax = axs[1])\n",
    "sns.scatterplot(data = graph_df, x = 'year', y = 'pass_yds', hue = 'was_ap', size = 'was_ap', size_order = [1, 0], style = 'was_ap', style_order = [1, 0], legend = False, ax = axs[2])\n",
    "sns.scatterplot(data = graph_df, x = 'year', y = 'pass_td', hue = 'was_ap', size = 'was_ap', size_order = [1, 0], style = 'was_ap', style_order = [1, 0], legend = False, ax = axs[3])\n",
    "sns.scatterplot(data = graph_df, x = 'year', y = 'cmp', hue = 'was_ap', size = 'was_ap', size_order = [1, 0], style = 'was_ap', style_order = [1, 0], legend = False, ax = axs[4])"
   ]
  },
  {
   "cell_type": "code",
   "execution_count": null,
   "metadata": {},
   "outputs": [],
   "source": [
    "sns.scatterplot(data = graph_df, x = 'year', y = 'pass_td', hue = 'was_ap', size = 'was_ap', size_order = [1, 0], style = 'was_ap', style_order = [1, 0], legend = False)"
   ]
  },
  {
   "cell_type": "code",
   "execution_count": null,
   "metadata": {},
   "outputs": [],
   "source": [
    "sns.scatterplot(data = graph_df, x = 'year', y = 'wins', hue = 'was_ap', size = 'was_ap', size_order = [1, 0], style = 'was_ap', style_order = [1, 0], legend = False)"
   ]
  },
  {
   "cell_type": "code",
   "execution_count": null,
   "metadata": {},
   "outputs": [],
   "source": [
    "sns.scatterplot(data = graph_df, x = 'year', y = 'pass_rk', hue = 'was_ap', size = 'was_ap', size_order = [1, 0], style = 'was_ap', style_order = [1, 0], legend = False).invert_axis()"
   ]
  }
 ],
 "metadata": {
  "kernelspec": {
   "display_name": "Python 3",
   "language": "python",
   "name": "python3"
  },
  "language_info": {
   "codemirror_mode": {
    "name": "ipython",
    "version": 3
   },
   "file_extension": ".py",
   "mimetype": "text/x-python",
   "name": "python",
   "nbconvert_exporter": "python",
   "pygments_lexer": "ipython3",
   "version": "3.8.10"
  },
  "orig_nbformat": 4,
  "vscode": {
   "interpreter": {
    "hash": "31f2aee4e71d21fbe5cf8b01ff0e069b9275f58929596ceb00d14d90e3e16cd6"
   }
  }
 },
 "nbformat": 4,
 "nbformat_minor": 2
}
